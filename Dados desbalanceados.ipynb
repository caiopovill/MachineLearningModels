{
 "cells": [
  {
   "cell_type": "markdown",
   "id": "ebb2fa77",
   "metadata": {},
   "source": [
    "# Lidando com dados desbalanceados "
   ]
  },
  {
   "cell_type": "markdown",
   "id": "fc748f18",
   "metadata": {},
   "source": [
    "Quando a variável que estamos tentando prever apresenta dados desbalanceados, por exemplo, estamos tentando prever se o funcionário quer ou não sair da empresa, 16% dos funcionarios responderam sim, o que representa uma pequena parte dos dados. Nesses casos, o algoritmo não tem dados suficientes para treinar essa hipótese, gerando uma acurácia semelhante a distribuição dos dados."
   ]
  },
  {
   "cell_type": "markdown",
   "id": "4c06db48",
   "metadata": {},
   "source": [
    "Para lidar com esse problema nós utilizamos o método de Oversampling e Undersampling "
   ]
  },
  {
   "cell_type": "markdown",
   "id": "6c070a3d",
   "metadata": {},
   "source": [
    "##### Oversampling - são adicionadas copias de observações para repor a classe com menos ocorrência"
   ]
  },
  {
   "cell_type": "markdown",
   "id": "d64805d6",
   "metadata": {},
   "source": [
    "##### Undersampling - algumas observações da classe predominante são excluídas para balancear o conjunto de dados."
   ]
  },
  {
   "cell_type": "markdown",
   "id": "b83b533e",
   "metadata": {},
   "source": [
    "Nesse tutorial focarei apenas no tratamento dos dados desbalanceados, não levando muito em conta os outros tipos de tratamentos. Vamos prestar atenção na diferença dos dados desbalanceados e balanceados"
   ]
  },
  {
   "cell_type": "code",
   "execution_count": 253,
   "id": "f116390b",
   "metadata": {},
   "outputs": [],
   "source": [
    "from sklearn.pipeline import Pipeline\n",
    "from sklearn.preprocessing import StandardScaler, MinMaxScaler\n",
    "from category_encoders.one_hot import OneHotEncoder\n",
    "from sklearn.compose import ColumnTransformer\n",
    "from sklearn.model_selection import train_test_split\n",
    "from sklearn.metrics import mean_absolute_error, mean_squared_error, r2_score\n",
    "from sklearn import preprocessing\n",
    "import seaborn as sn\n",
    "import pandas as pd\n",
    "import numpy as np\n",
    "import warnings\n",
    "warnings.filterwarnings('ignore')"
   ]
  },
  {
   "cell_type": "code",
   "execution_count": 272,
   "id": "6da27b84",
   "metadata": {},
   "outputs": [],
   "source": [
    "df = pd.read_csv(r'C:\\Users\\Usuario\\Desktop\\data\\IBM\\employe.csv')"
   ]
  },
  {
   "cell_type": "markdown",
   "id": "ee65c1bd",
   "metadata": {},
   "source": [
    "# Sem tratamento"
   ]
  },
  {
   "cell_type": "markdown",
   "id": "46821ce4",
   "metadata": {},
   "source": [
    "Primeiro vamos usar as métricas de avaliação com os dados antes do tratamento para analisar os resultados"
   ]
  },
  {
   "cell_type": "markdown",
   "id": "efa0e6ab",
   "metadata": {},
   "source": [
    "Proporção da variável que queremos prever"
   ]
  },
  {
   "cell_type": "code",
   "execution_count": 286,
   "id": "b1612f4c",
   "metadata": {},
   "outputs": [
    {
     "data": {
      "text/plain": [
       "0    0.838776\n",
       "1    0.161224\n",
       "Name: Attrition, dtype: float64"
      ]
     },
     "execution_count": 286,
     "metadata": {},
     "output_type": "execute_result"
    }
   ],
   "source": [
    "df['Attrition'].value_counts(normalize=True)"
   ]
  },
  {
   "cell_type": "markdown",
   "id": "288b60c8",
   "metadata": {},
   "source": [
    "Aplicando um Encoder nas variáveis categóricas"
   ]
  },
  {
   "cell_type": "code",
   "execution_count": 280,
   "id": "b38c6fb5",
   "metadata": {},
   "outputs": [],
   "source": [
    "df['Attrition'] = df['Attrition'].map({'Yes':1,'No':0})"
   ]
  },
  {
   "cell_type": "code",
   "execution_count": 281,
   "id": "386c2e65",
   "metadata": {},
   "outputs": [],
   "source": [
    "ohe = OneHotEncoder()"
   ]
  },
  {
   "cell_type": "code",
   "execution_count": 282,
   "id": "4b73df91",
   "metadata": {},
   "outputs": [],
   "source": [
    "from sklearn.linear_model import LogisticRegression\n",
    "from sklearn.metrics import f1_score, accuracy_score, confusion_matrix, classification_report\n",
    "model = LogisticRegression()"
   ]
  },
  {
   "cell_type": "code",
   "execution_count": 283,
   "id": "bec7065b",
   "metadata": {},
   "outputs": [],
   "source": [
    "X = df.drop('Attrition', axis=1)\n",
    "y = df['Attrition']"
   ]
  },
  {
   "cell_type": "code",
   "execution_count": 284,
   "id": "a8380869",
   "metadata": {},
   "outputs": [],
   "source": [
    "X_train,X_test,y_train,y_test = train_test_split(X,y,test_size=0.3, random_state= 1)"
   ]
  },
  {
   "cell_type": "code",
   "execution_count": 231,
   "id": "dbc36d50",
   "metadata": {},
   "outputs": [
    {
     "name": "stdout",
     "output_type": "stream",
     "text": [
      "f1 0.025316455696202535\n",
      "\n",
      "accuracy_score 0.8253968253968254\n",
      "\n",
      "classification_report               precision    recall  f1-score   support\n",
      "\n",
      "           0       0.83      1.00      0.90       364\n",
      "           1       0.50      0.01      0.03        77\n",
      "\n",
      "    accuracy                           0.83       441\n",
      "   macro avg       0.66      0.51      0.46       441\n",
      "weighted avg       0.77      0.83      0.75       441\n",
      "\n",
      "\n",
      "Predito    0  1  All\n",
      "Real                \n",
      "0        363  1  364\n",
      "1         76  1   77\n",
      "All      439  2  441\n"
     ]
    }
   ],
   "source": [
    "model = LogisticRegression()\n",
    "\n",
    "model.fit(X_train, y_train)\n",
    "preds = model.predict(X_test)\n",
    "    \n",
    "print('f1', f1_score(y_test,preds))\n",
    "print()\n",
    "print('accuracy_score', accuracy_score(y_test,preds))\n",
    "print()\n",
    "print('classification_report', classification_report(y_test,preds))\n",
    "print()\n",
    "print(pd.crosstab(y_test, preds, rownames=['Real'],colnames=['Predito'],margins=True))"
   ]
  },
  {
   "cell_type": "markdown",
   "id": "9a5d0f32",
   "metadata": {},
   "source": [
    "Podemos ver que o algoritmo apenas definiu que os funcionários não querem sair da empresa, a precisão dos acertos dos 16% que querem sair foi de 1%"
   ]
  },
  {
   "cell_type": "markdown",
   "id": "a1c02975",
   "metadata": {},
   "source": [
    "# UNDER SAMPLING"
   ]
  },
  {
   "cell_type": "markdown",
   "id": "b645e40d",
   "metadata": {},
   "source": [
    "Como dito anteriormente, esse método exclui algumas partes da classe predominante para igualar a menor predominante para balancear o conjunto de dados"
   ]
  },
  {
   "cell_type": "code",
   "execution_count": 232,
   "id": "b4f1173e",
   "metadata": {},
   "outputs": [],
   "source": [
    "df = pd.read_csv(r'C:\\Users\\Usuario\\Desktop\\data\\IBM\\employe.csv')"
   ]
  },
  {
   "cell_type": "markdown",
   "id": "312773a2",
   "metadata": {},
   "source": [
    "Faremos a mesma preparação dos dados"
   ]
  },
  {
   "cell_type": "code",
   "execution_count": 233,
   "id": "b37fb49f",
   "metadata": {},
   "outputs": [],
   "source": [
    "df['Attrition'] = df['Attrition'].map({'Yes':1,'No':0})\n",
    "df = ohe.fit_transform(df)"
   ]
  },
  {
   "cell_type": "markdown",
   "id": "c2fb5929",
   "metadata": {},
   "source": [
    "Importaremos a função NearMiss para fazer o trabalho do undersampling"
   ]
  },
  {
   "cell_type": "code",
   "execution_count": 234,
   "id": "b83605d1",
   "metadata": {},
   "outputs": [],
   "source": [
    "from imblearn.under_sampling import NearMiss"
   ]
  },
  {
   "cell_type": "code",
   "execution_count": 235,
   "id": "552fb3ed",
   "metadata": {},
   "outputs": [],
   "source": [
    "nm = NearMiss()"
   ]
  },
  {
   "cell_type": "code",
   "execution_count": 236,
   "id": "2a5bd326",
   "metadata": {},
   "outputs": [],
   "source": [
    "X = df.drop('Attrition', axis=1)\n",
    "y = df['Attrition']"
   ]
  },
  {
   "cell_type": "code",
   "execution_count": 237,
   "id": "9f0798f4",
   "metadata": {},
   "outputs": [],
   "source": [
    "X, y = nm.fit_resample(X, y)"
   ]
  },
  {
   "cell_type": "code",
   "execution_count": 238,
   "id": "7ec20dde",
   "metadata": {},
   "outputs": [],
   "source": [
    "import seaborn as sns"
   ]
  },
  {
   "cell_type": "markdown",
   "id": "a349585b",
   "metadata": {},
   "source": [
    "Como podemos ver, o número de funcionários que não querem sair foi reduzido até chegar a mesma quantidade dos que querem sair"
   ]
  },
  {
   "cell_type": "code",
   "execution_count": 239,
   "id": "4e9dfd51",
   "metadata": {},
   "outputs": [
    {
     "data": {
      "text/plain": [
       "<AxesSubplot:xlabel='Attrition', ylabel='count'>"
      ]
     },
     "execution_count": 239,
     "metadata": {},
     "output_type": "execute_result"
    },
    {
     "data": {
      "image/png": "[encoded data removed]",
      "text/plain": [
       "<Figure size 432x288 with 1 Axes>"
      ]
     },
     "metadata": {
      "needs_background": "light"
     },
     "output_type": "display_data"
    }
   ],
   "source": [
    "sns.countplot(x = y)"
   ]
  },
  {
   "cell_type": "code",
   "execution_count": 240,
   "id": "2f841935",
   "metadata": {},
   "outputs": [],
   "source": [
    "X_train,X_test,y_train,y_test = train_test_split(X,y,test_size=0.3, random_state= 1, stratify=y)"
   ]
  },
  {
   "cell_type": "code",
   "execution_count": 241,
   "id": "132a88da",
   "metadata": {},
   "outputs": [
    {
     "name": "stdout",
     "output_type": "stream",
     "text": [
      "f1 0.619718309859155\n",
      "\n",
      "accuracy_score 0.6223776223776224\n",
      "\n",
      "classification_report               precision    recall  f1-score   support\n",
      "\n",
      "           0       0.62      0.63      0.63        71\n",
      "           1       0.63      0.61      0.62        72\n",
      "\n",
      "    accuracy                           0.62       143\n",
      "   macro avg       0.62      0.62      0.62       143\n",
      "weighted avg       0.62      0.62      0.62       143\n",
      "\n",
      "\n",
      "Predito   0   1  All\n",
      "Real                \n",
      "0        45  26   71\n",
      "1        28  44   72\n",
      "All      73  70  143\n"
     ]
    }
   ],
   "source": [
    "model = LogisticRegression()\n",
    "\n",
    "model.fit(X_train, y_train)\n",
    "preds = model.predict(X_test)\n",
    "    \n",
    "print('f1', f1_score(y_test,preds))\n",
    "print()\n",
    "print('accuracy_score', accuracy_score(y_test,preds))\n",
    "print()\n",
    "print('classification_report', classification_report(y_test,preds))\n",
    "print()\n",
    "print(pd.crosstab(y_test, preds, rownames=['Real'],colnames=['Predito'],margins=True))"
   ]
  },
  {
   "cell_type": "markdown",
   "id": "6aebf251",
   "metadata": {},
   "source": [
    "Comparando as métricas usando o undersampling podemos notar que a precisão de acerto dos funcionários que querem sair aumentou de 1% para 61%"
   ]
  },
  {
   "cell_type": "markdown",
   "id": "91751096",
   "metadata": {},
   "source": [
    "# SMOTE overSAMPLING"
   ]
  },
  {
   "cell_type": "markdown",
   "id": "63b4ad4e",
   "metadata": {},
   "source": [
    "Agora testaremos com o OverSampling, que ao contrário do UnderSampling, nós adicionamos dados a classe com menos dados até igualar com a predominante"
   ]
  },
  {
   "cell_type": "code",
   "execution_count": 242,
   "id": "5ce2fca2",
   "metadata": {},
   "outputs": [],
   "source": [
    "df = pd.read_csv(r'C:\\Users\\Usuario\\Desktop\\data\\IBM\\employe.csv')"
   ]
  },
  {
   "cell_type": "markdown",
   "id": "25501384",
   "metadata": {},
   "source": [
    "Faremos a mesma preparação dos dados"
   ]
  },
  {
   "cell_type": "code",
   "execution_count": 243,
   "id": "f77872ef",
   "metadata": {},
   "outputs": [],
   "source": [
    "df['Attrition'] = df['Attrition'].map({'Yes':1,'No':0})\n",
    "df = ohe.fit_transform(df)"
   ]
  },
  {
   "cell_type": "code",
   "execution_count": 244,
   "id": "39355fdc",
   "metadata": {},
   "outputs": [],
   "source": [
    "X = df.drop('Attrition', axis=1)\n",
    "y = df['Attrition']"
   ]
  },
  {
   "cell_type": "code",
   "execution_count": 245,
   "id": "7b68fc40",
   "metadata": {},
   "outputs": [
    {
     "data": {
      "text/plain": [
       "array([1233,  237], dtype=int64)"
      ]
     },
     "execution_count": 245,
     "metadata": {},
     "output_type": "execute_result"
    }
   ],
   "source": [
    "np.bincount(y)"
   ]
  },
  {
   "cell_type": "code",
   "execution_count": 246,
   "id": "f35e1a53",
   "metadata": {},
   "outputs": [],
   "source": [
    "from imblearn.over_sampling import SMOTE"
   ]
  },
  {
   "cell_type": "code",
   "execution_count": 247,
   "id": "94390fcb",
   "metadata": {},
   "outputs": [],
   "source": [
    "smt = SMOTE()"
   ]
  },
  {
   "cell_type": "code",
   "execution_count": 248,
   "id": "2d3b84a0",
   "metadata": {},
   "outputs": [],
   "source": [
    "X, y = smt.fit_resample(X,y)"
   ]
  },
  {
   "cell_type": "code",
   "execution_count": 249,
   "id": "c7cc996c",
   "metadata": {},
   "outputs": [
    {
     "data": {
      "text/plain": [
       "array([1233, 1233], dtype=int64)"
      ]
     },
     "execution_count": 249,
     "metadata": {},
     "output_type": "execute_result"
    }
   ],
   "source": [
    "np.bincount(y)"
   ]
  },
  {
   "cell_type": "code",
   "execution_count": 250,
   "id": "196bc4a4",
   "metadata": {},
   "outputs": [],
   "source": [
    "X_train,X_test,y_train,y_test = train_test_split(X,y,test_size=0.3, random_state= 1, stratify=y)"
   ]
  },
  {
   "cell_type": "code",
   "execution_count": 251,
   "id": "129e7556",
   "metadata": {},
   "outputs": [
    {
     "name": "stdout",
     "output_type": "stream",
     "text": [
      "f1 0.6523489932885906\n",
      "\n",
      "accuracy_score 0.65\n",
      "\n",
      "classification_report               precision    recall  f1-score   support\n",
      "\n",
      "           0       0.65      0.64      0.65       370\n",
      "           1       0.65      0.66      0.65       370\n",
      "\n",
      "    accuracy                           0.65       740\n",
      "   macro avg       0.65      0.65      0.65       740\n",
      "weighted avg       0.65      0.65      0.65       740\n",
      "\n",
      "\n",
      "Predito    0    1  All\n",
      "Real                  \n",
      "0        238  132  370\n",
      "1        127  243  370\n",
      "All      365  375  740\n"
     ]
    }
   ],
   "source": [
    "model = LogisticRegression()\n",
    "\n",
    "model.fit(X_train, y_train)\n",
    "preds = model.predict(X_test)\n",
    "    \n",
    "print('f1', f1_score(y_test,preds))\n",
    "print()\n",
    "print('accuracy_score', accuracy_score(y_test,preds))\n",
    "print()\n",
    "print('classification_report', classification_report(y_test,preds))\n",
    "print()\n",
    "print(pd.crosstab(y_test, preds, rownames=['Real'],colnames=['Predito'],margins=True))"
   ]
  },
  {
   "cell_type": "markdown",
   "id": "ba1fc362",
   "metadata": {},
   "source": [
    "Neste caso, o oversampling saiu superior ao undersampling, obtendo 65% de precisão"
   ]
  },
  {
   "cell_type": "markdown",
   "id": "d4274ed5",
   "metadata": {},
   "source": [
    "# Conclusão"
   ]
  },
  {
   "cell_type": "markdown",
   "id": "202b9e5e",
   "metadata": {},
   "source": [
    "Neste tutorial, ficou claro a importancia de tratar dados desbalanceados antes de aplicar os modelos, o resultado é completamente diferente. Nesse caso o método do oversambling saiu superior, porém nem sempre isso será verdade, a melhor prática é testar os 2 métodos."
   ]
  }
 ],
 "metadata": {
  "kernelspec": {
   "display_name": "Python 3 (ipykernel)",
   "language": "python",
   "name": "python3"
  },
  "language_info": {
   "codemirror_mode": {
    "name": "ipython",
    "version": 3
   },
   "file_extension": ".py",
   "mimetype": "text/x-python",
   "name": "python",
   "nbconvert_exporter": "python",
   "pygments_lexer": "ipython3",
   "version": "3.9.12"
  }
 },
 "nbformat": 4,
 "nbformat_minor": 5
}

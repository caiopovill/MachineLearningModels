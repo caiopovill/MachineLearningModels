{
 "cells": [
  {
   "cell_type": "markdown",
   "id": "b2235ae4",
   "metadata": {},
   "source": [
    "# Regressão Linear "
   ]
  },
  {
   "cell_type": "markdown",
   "id": "14f9bbbf",
   "metadata": {},
   "source": [
    "A regressão linear é um método de regressão estatística simples e silencioso usado para análise preditiva e mostra a relação entre as variáveis contínuas. A regressão linear mostra a relação linear entre a variável independente (eixo X) e a variável dependente (eixo Y), consequentemente chamada de regressão linear . Se houver uma única variável de entrada (x), tal regressão linear é chamadaregressão linear simples . E se houver mais de uma variável de entrada, essa regressão linear é chamada de regressão linear múltipla . O modelo de regressão linear fornece uma linha reta inclinada que descreve a relação entre as variáveis."
   ]
  },
  {
   "cell_type": "markdown",
   "id": "bc5df03b",
   "metadata": {},
   "source": [
    "<img src=\"https://user-images.githubusercontent.com/105823082/183495427-4e8cb3ce-d3b7-4855-a5d9-0458fd5e42ba.png\" width=\"300\" height=\"300\">"
   ]
  },
  {
   "cell_type": "markdown",
   "id": "1a638274",
   "metadata": {},
   "source": [
    "##### Y = mX+ B"
   ]
  },
  {
   "cell_type": "markdown",
   "id": "96655f9d",
   "metadata": {},
   "source": [
    "### Função de custo"
   ]
  },
  {
   "cell_type": "markdown",
   "id": "3a9c7c71",
   "metadata": {},
   "source": [
    "A função de custo ajuda a descobrir os melhores valores possíveis para m e B, que fornece a melhor linha de ajuste para os pontos de dados.\n",
    "\n",
    "A função de custo otimiza os coeficientes ou pesos de regressão e mede o desempenho de um modelo de regressão linear. A função de custo é usada para encontrar a precisão da função de mapeamento que mapeia a variável de entrada para a variável de saída. Essa função de mapeamento também é conhecida como função de hipótese .\n",
    "\n",
    "Na Regressão Linear, é utilizada a função de custo do Erro Quadrado Médio (MSE) , que é a média do erro quadrado que ocorreu entre os valores previstos e os valores reais.\n",
    "\n",
    "Pela equação linear simples y=mx+b podemos calcular o MSE como:\n",
    "\n",
    "Vamos y = valores reais, y i = valores previstos"
   ]
  },
  {
   "cell_type": "markdown",
   "id": "635d24ea",
   "metadata": {},
   "source": [
    "<img src=\"https://user-images.githubusercontent.com/105823082/183495482-3f6d82c0-5077-4cee-88a7-3b84c799c9ee.png\" width=\"300\" height=\"300\">"
   ]
  },
  {
   "cell_type": "markdown",
   "id": "1f0e02c8",
   "metadata": {},
   "source": [
    "Usando a função MSE, alteraremos os valores de a0 e a1 de modo que o valor de MSE se estabeleça no mínimo. Os parâmetros do modelo xi, b  (a 0 ,a 1 )  podem ser manipulados para minimizar a função de custo. Esses parâmetros podem ser determinados usando o método gradiente descendente para que o valor da função de custo seja mínimo."
   ]
  },
  {
   "cell_type": "markdown",
   "id": "c3481448",
   "metadata": {},
   "source": [
    "### Gradiente descendente"
   ]
  },
  {
   "cell_type": "markdown",
   "id": "5f2979b6",
   "metadata": {},
   "source": [
    "A descida do gradiente é um método de atualização de a0 e a1 para minimizar a função de custo (MSE). Um modelo de regressão usa gradiente descendente para atualizar os coeficientes da linha (a0, a1 => xi, b) reduzindo a função de custo por uma seleção aleatória de valores de coeficiente e, em seguida, atualizando iterativamente os valores para alcançar a função de custo mínimo."
   ]
  },
  {
   "cell_type": "markdown",
   "id": "d1d95bc0",
   "metadata": {},
   "source": [
    "<img src=\"https://user-images.githubusercontent.com/105823082/183495402-94b33194-bf7f-4fbd-9e5c-b76327939b0f.png\" width=\"350\" height=\"350\">"
   ]
  },
  {
   "cell_type": "markdown",
   "id": "c24a5408",
   "metadata": {},
   "source": [
    "Imagine um poço em forma de U. Você está no ponto mais alto do poço e seu objetivo é chegar ao fundo do poço. Há um tesouro, e você só pode dar um número discreto de passos para chegar ao fundo. Se você decidir dar um passo de cada vez, eventualmente chegará ao fundo do poço, mas isso levaria mais tempo. Se você optar por dar passos mais longos a cada vez, poderá chegar mais cedo, mas há uma chance de ultrapassar o fundo do poço e não perto do fundo. No algoritmo de gradiente descendente, o número de passos que você dá é a taxa de aprendizado, e isso decide a rapidez com que o algoritmo converge para os mínimos."
   ]
  },
  {
   "cell_type": "markdown",
   "id": "db9c4092",
   "metadata": {},
   "source": [
    "<img src=\"https://user-images.githubusercontent.com/105823082/183495458-1dd14b1d-dbce-4dfe-993e-124fbaf3e7af.png\" width=\"550\" height=\"550\">"
   ]
  },
  {
   "cell_type": "markdown",
   "id": "b82179b0",
   "metadata": {},
   "source": [
    "Para atualizar um 0 e um 1 , tomamos gradientes da função de custo. Para encontrar esses gradientes, tomamos derivadas parciais para a 0 e a 1 ."
   ]
  },
  {
   "cell_type": "markdown",
   "id": "1ba0a5ab",
   "metadata": {},
   "source": [
    "<img src=\"https://user-images.githubusercontent.com/105823082/183495374-52a08a9c-12f0-42c7-bdcf-74c049b77899.png\" width=\"300\" height=\"300\">"
   ]
  },
  {
   "cell_type": "markdown",
   "id": "6435e4e4",
   "metadata": {},
   "source": [
    "As derivadas parciais são os gradientes e são usadas para atualizar os valores de a 0 e a 1 . Alfa é a taxa de aprendizado."
   ]
  },
  {
   "cell_type": "markdown",
   "id": "deb46f4b",
   "metadata": {},
   "source": [
    "<img src=\"https://user-images.githubusercontent.com/105823082/183495289-7e910d64-04d5-49d1-a393-ec504ebd9fc7.png\" width=\"650\" height=\"650\">"
   ]
  },
  {
   "cell_type": "markdown",
   "id": "aae0df59",
   "metadata": {},
   "source": [
    "A linha azul representa o valor ótimo da taxa de aprendizado e o valor da função de custo é minimizado em algumas iterações. A linha verde representa se a taxa de aprendizado for menor que o valor ótimo, então o número de iterações necessárias é alto para minimizar a função de custo. Se a taxa de aprendizado selecionada for muito alta, a função de custo pode continuar a aumentar com as iterações e saturar em um valor maior que o valor mínimo, representado por uma linha vermelha e preta."
   ]
  },
  {
   "cell_type": "markdown",
   "id": "a15e259c",
   "metadata": {},
   "source": [
    "### Coeficiente R2"
   ]
  },
  {
   "cell_type": "markdown",
   "id": "a5a3efd4",
   "metadata": {},
   "source": [
    "O coeficiente de determinação R2 representa quão melhor o modelo é melhor do que simplesmente traçar a média dos dados. Varia de 0 a 1, quanto mais próximo de 1 mais eficaz é o modelo. Ele nos diz a quantidade da variancia dos dados que é explicada pelo modelo. O quão próximo as medidas reais estão do nosso modelo."
   ]
  },
  {
   "cell_type": "markdown",
   "id": "0886a878",
   "metadata": {},
   "source": [
    "<img src=\"https://user-images.githubusercontent.com/105823082/183495337-7c847553-fe96-4044-879b-04f9bcc0e42d.png\" width=\"500\" height=\"500\">"
   ]
  },
  {
   "cell_type": "markdown",
   "id": "d40927aa",
   "metadata": {},
   "source": [
    "Variância total representa A diferença de cada um dos valores em relação a média. A variancia Residual é a variância total - a variância dos dados em relação a reta traçada pelo modelo. Quanto temos um R2 mais próximo de 1, os dados de teste comparados com a reta traçada pelo modelo geram uma variancia mais próxima de 0, ficando Variancia total/Variancia total."
   ]
  },
  {
   "cell_type": "markdown",
   "id": "33256f2e",
   "metadata": {},
   "source": [
    "# Testando"
   ]
  },
  {
   "cell_type": "markdown",
   "id": "ae281881",
   "metadata": {},
   "source": [
    " Aplicando o modelo de Regressão linear com a biblioteca sklearn"
   ]
  },
  {
   "cell_type": "markdown",
   "id": "d89ea854",
   "metadata": {},
   "source": [
    "## Importando as bibliotecas"
   ]
  },
  {
   "cell_type": "code",
   "execution_count": 2,
   "id": "32c6df0e",
   "metadata": {},
   "outputs": [],
   "source": [
    "from sklearn.datasets import make_regression\n",
    "from sklearn.linear_model import LinearRegression\n",
    "import matplotlib.pyplot as plt\n",
    "import numpy as np\n"
   ]
  },
  {
   "cell_type": "markdown",
   "id": "3fee6a87",
   "metadata": {},
   "source": [
    "Criando valores X e y com a função make_regression"
   ]
  },
  {
   "cell_type": "code",
   "execution_count": 3,
   "id": "04e61c3e",
   "metadata": {},
   "outputs": [
    {
     "data": {
      "image/png": "[encoded data removed]",
      "text/plain": [
       "<Figure size 432x288 with 1 Axes>"
      ]
     },
     "metadata": {
      "needs_background": "light"
     },
     "output_type": "display_data"
    }
   ],
   "source": [
    "X,y = make_regression(n_samples=200, n_features=1, noise=20)\n",
    "plt.scatter(X,y)\n",
    "plt.show()"
   ]
  },
  {
   "cell_type": "markdown",
   "id": "8e963dc8",
   "metadata": {},
   "source": [
    "Criando uma variável para utilizar o modelo de regressão linear"
   ]
  },
  {
   "cell_type": "code",
   "execution_count": 4,
   "id": "f72a5edb",
   "metadata": {},
   "outputs": [],
   "source": [
    "modelo = LinearRegression()"
   ]
  },
  {
   "cell_type": "markdown",
   "id": "24e3819a",
   "metadata": {},
   "source": [
    "Treinando o modelo"
   ]
  },
  {
   "cell_type": "code",
   "execution_count": 5,
   "id": "db1856ee",
   "metadata": {},
   "outputs": [
    {
     "data": {
      "text/plain": [
       "LinearRegression()"
      ]
     },
     "execution_count": 5,
     "metadata": {},
     "output_type": "execute_result"
    }
   ],
   "source": [
    "modelo.fit(X,y)"
   ]
  },
  {
   "cell_type": "code",
   "execution_count": 6,
   "id": "7c2f2add",
   "metadata": {},
   "outputs": [
    {
     "data": {
      "text/plain": [
       "1.2649933001696505"
      ]
     },
     "execution_count": 6,
     "metadata": {},
     "output_type": "execute_result"
    }
   ],
   "source": [
    "b = modelo.intercept_ # Coeficiente Linear\n",
    "b"
   ]
  },
  {
   "cell_type": "code",
   "execution_count": 7,
   "id": "ed47bb0a",
   "metadata": {},
   "outputs": [
    {
     "data": {
      "text/plain": [
       "array([54.71590819])"
      ]
     },
     "execution_count": 7,
     "metadata": {},
     "output_type": "execute_result"
    }
   ],
   "source": [
    "a = modelo.coef_ # Coeficiente Angular\n",
    "a"
   ]
  },
  {
   "cell_type": "markdown",
   "id": "ffb15f99",
   "metadata": {},
   "source": [
    "Plotando os dados no gráfico junto com a reta gerada pelo modelo"
   ]
  },
  {
   "cell_type": "code",
   "execution_count": 8,
   "id": "8aa54797",
   "metadata": {},
   "outputs": [
    {
     "data": {
      "text/plain": [
       "[<matplotlib.lines.Line2D at 0x150453e9d00>]"
      ]
     },
     "execution_count": 8,
     "metadata": {},
     "output_type": "execute_result"
    },
    {
     "data": {
      "image/png": "[encoded data removed]",
      "text/plain": [
       "<Figure size 432x288 with 1 Axes>"
      ]
     },
     "metadata": {
      "needs_background": "light"
     },
     "output_type": "display_data"
    }
   ],
   "source": [
    "plt.scatter(X,y)\n",
    "reg = np.arange(-3,4,1)\n",
    "plt.plot(reg, a*reg+b, color='red')"
   ]
  },
  {
   "cell_type": "markdown",
   "id": "751eccb6",
   "metadata": {},
   "source": [
    "# Aplicando o modelo em dados reais"
   ]
  },
  {
   "cell_type": "code",
   "execution_count": 9,
   "id": "54adea13",
   "metadata": {},
   "outputs": [],
   "source": [
    "import pandas as pd\n",
    "from sklearn.model_selection import train_test_split\n",
    "from sklearn.linear_model import LinearRegression\n",
    "from sklearn.metrics import mean_absolute_error,mean_squared_error,mean_squared_error"
   ]
  },
  {
   "cell_type": "markdown",
   "id": "9ebf090b",
   "metadata": {},
   "source": [
    "Lendo o dataset que contem as informações da casa e seu preço de venda"
   ]
  },
  {
   "cell_type": "code",
   "execution_count": 10,
   "id": "d8f19eff",
   "metadata": {},
   "outputs": [
    {
     "data": {
      "text/html": [
       "<div>\n",
       "<style scoped>\n",
       "    .dataframe tbody tr th:only-of-type {\n",
       "        vertical-align: middle;\n",
       "    }\n",
       "\n",
       "    .dataframe tbody tr th {\n",
       "        vertical-align: top;\n",
       "    }\n",
       "\n",
       "    .dataframe thead th {\n",
       "        text-align: right;\n",
       "    }\n",
       "</style>\n",
       "<table border=\"1\" class=\"dataframe\">\n",
       "  <thead>\n",
       "    <tr style=\"text-align: right;\">\n",
       "      <th></th>\n",
       "      <th>id</th>\n",
       "      <th>date</th>\n",
       "      <th>price</th>\n",
       "      <th>bedrooms</th>\n",
       "      <th>bathrooms</th>\n",
       "      <th>sqft_living</th>\n",
       "      <th>sqft_lot</th>\n",
       "      <th>floors</th>\n",
       "      <th>waterfront</th>\n",
       "      <th>view</th>\n",
       "      <th>...</th>\n",
       "      <th>grade</th>\n",
       "      <th>sqft_above</th>\n",
       "      <th>sqft_basement</th>\n",
       "      <th>yr_built</th>\n",
       "      <th>yr_renovated</th>\n",
       "      <th>zipcode</th>\n",
       "      <th>lat</th>\n",
       "      <th>long</th>\n",
       "      <th>sqft_living15</th>\n",
       "      <th>sqft_lot15</th>\n",
       "    </tr>\n",
       "  </thead>\n",
       "  <tbody>\n",
       "    <tr>\n",
       "      <th>0</th>\n",
       "      <td>7129300520</td>\n",
       "      <td>20141013T000000</td>\n",
       "      <td>221900.0</td>\n",
       "      <td>3</td>\n",
       "      <td>1.00</td>\n",
       "      <td>1180</td>\n",
       "      <td>5650</td>\n",
       "      <td>1.0</td>\n",
       "      <td>0</td>\n",
       "      <td>0</td>\n",
       "      <td>...</td>\n",
       "      <td>7</td>\n",
       "      <td>1180</td>\n",
       "      <td>0</td>\n",
       "      <td>1955</td>\n",
       "      <td>0</td>\n",
       "      <td>98178</td>\n",
       "      <td>47.5112</td>\n",
       "      <td>-122.257</td>\n",
       "      <td>1340</td>\n",
       "      <td>5650</td>\n",
       "    </tr>\n",
       "    <tr>\n",
       "      <th>1</th>\n",
       "      <td>6414100192</td>\n",
       "      <td>20141209T000000</td>\n",
       "      <td>538000.0</td>\n",
       "      <td>3</td>\n",
       "      <td>2.25</td>\n",
       "      <td>2570</td>\n",
       "      <td>7242</td>\n",
       "      <td>2.0</td>\n",
       "      <td>0</td>\n",
       "      <td>0</td>\n",
       "      <td>...</td>\n",
       "      <td>7</td>\n",
       "      <td>2170</td>\n",
       "      <td>400</td>\n",
       "      <td>1951</td>\n",
       "      <td>1991</td>\n",
       "      <td>98125</td>\n",
       "      <td>47.7210</td>\n",
       "      <td>-122.319</td>\n",
       "      <td>1690</td>\n",
       "      <td>7639</td>\n",
       "    </tr>\n",
       "    <tr>\n",
       "      <th>2</th>\n",
       "      <td>5631500400</td>\n",
       "      <td>20150225T000000</td>\n",
       "      <td>180000.0</td>\n",
       "      <td>2</td>\n",
       "      <td>1.00</td>\n",
       "      <td>770</td>\n",
       "      <td>10000</td>\n",
       "      <td>1.0</td>\n",
       "      <td>0</td>\n",
       "      <td>0</td>\n",
       "      <td>...</td>\n",
       "      <td>6</td>\n",
       "      <td>770</td>\n",
       "      <td>0</td>\n",
       "      <td>1933</td>\n",
       "      <td>0</td>\n",
       "      <td>98028</td>\n",
       "      <td>47.7379</td>\n",
       "      <td>-122.233</td>\n",
       "      <td>2720</td>\n",
       "      <td>8062</td>\n",
       "    </tr>\n",
       "    <tr>\n",
       "      <th>3</th>\n",
       "      <td>2487200875</td>\n",
       "      <td>20141209T000000</td>\n",
       "      <td>604000.0</td>\n",
       "      <td>4</td>\n",
       "      <td>3.00</td>\n",
       "      <td>1960</td>\n",
       "      <td>5000</td>\n",
       "      <td>1.0</td>\n",
       "      <td>0</td>\n",
       "      <td>0</td>\n",
       "      <td>...</td>\n",
       "      <td>7</td>\n",
       "      <td>1050</td>\n",
       "      <td>910</td>\n",
       "      <td>1965</td>\n",
       "      <td>0</td>\n",
       "      <td>98136</td>\n",
       "      <td>47.5208</td>\n",
       "      <td>-122.393</td>\n",
       "      <td>1360</td>\n",
       "      <td>5000</td>\n",
       "    </tr>\n",
       "    <tr>\n",
       "      <th>4</th>\n",
       "      <td>1954400510</td>\n",
       "      <td>20150218T000000</td>\n",
       "      <td>510000.0</td>\n",
       "      <td>3</td>\n",
       "      <td>2.00</td>\n",
       "      <td>1680</td>\n",
       "      <td>8080</td>\n",
       "      <td>1.0</td>\n",
       "      <td>0</td>\n",
       "      <td>0</td>\n",
       "      <td>...</td>\n",
       "      <td>8</td>\n",
       "      <td>1680</td>\n",
       "      <td>0</td>\n",
       "      <td>1987</td>\n",
       "      <td>0</td>\n",
       "      <td>98074</td>\n",
       "      <td>47.6168</td>\n",
       "      <td>-122.045</td>\n",
       "      <td>1800</td>\n",
       "      <td>7503</td>\n",
       "    </tr>\n",
       "  </tbody>\n",
       "</table>\n",
       "<p>5 rows × 21 columns</p>\n",
       "</div>"
      ],
      "text/plain": [
       "           id             date     price  bedrooms  bathrooms  sqft_living  \\\n",
       "0  7129300520  20141013T000000  221900.0         3       1.00         1180   \n",
       "1  6414100192  20141209T000000  538000.0         3       2.25         2570   \n",
       "2  5631500400  20150225T000000  180000.0         2       1.00          770   \n",
       "3  2487200875  20141209T000000  604000.0         4       3.00         1960   \n",
       "4  1954400510  20150218T000000  510000.0         3       2.00         1680   \n",
       "\n",
       "   sqft_lot  floors  waterfront  view  ...  grade  sqft_above  sqft_basement  \\\n",
       "0      5650     1.0           0     0  ...      7        1180              0   \n",
       "1      7242     2.0           0     0  ...      7        2170            400   \n",
       "2     10000     1.0           0     0  ...      6         770              0   \n",
       "3      5000     1.0           0     0  ...      7        1050            910   \n",
       "4      8080     1.0           0     0  ...      8        1680              0   \n",
       "\n",
       "   yr_built  yr_renovated  zipcode      lat     long  sqft_living15  \\\n",
       "0      1955             0    98178  47.5112 -122.257           1340   \n",
       "1      1951          1991    98125  47.7210 -122.319           1690   \n",
       "2      1933             0    98028  47.7379 -122.233           2720   \n",
       "3      1965             0    98136  47.5208 -122.393           1360   \n",
       "4      1987             0    98074  47.6168 -122.045           1800   \n",
       "\n",
       "   sqft_lot15  \n",
       "0        5650  \n",
       "1        7639  \n",
       "2        8062  \n",
       "3        5000  \n",
       "4        7503  \n",
       "\n",
       "[5 rows x 21 columns]"
      ]
     },
     "execution_count": 10,
     "metadata": {},
     "output_type": "execute_result"
    }
   ],
   "source": [
    "df = pd.read_csv(r'C:\\Users\\Usuario\\Desktop\\data\\houses\\house.csv')\n",
    "df.head()"
   ]
  },
  {
   "cell_type": "code",
   "execution_count": 11,
   "id": "7d07e294",
   "metadata": {},
   "outputs": [
    {
     "data": {
      "text/plain": [
       "(21613, 21)"
      ]
     },
     "execution_count": 11,
     "metadata": {},
     "output_type": "execute_result"
    }
   ],
   "source": [
    "df.shape"
   ]
  },
  {
   "cell_type": "markdown",
   "id": "6b8b7b77",
   "metadata": {},
   "source": [
    "21613 casas e 21 colunas de dados"
   ]
  },
  {
   "cell_type": "markdown",
   "id": "c56a995f",
   "metadata": {},
   "source": [
    "Usando a coluna id como index"
   ]
  },
  {
   "cell_type": "code",
   "execution_count": 12,
   "id": "2fea0d92",
   "metadata": {},
   "outputs": [],
   "source": [
    "df.set_index('id',inplace=True)"
   ]
  },
  {
   "cell_type": "markdown",
   "id": "0c534fa1",
   "metadata": {},
   "source": [
    "Transformando a coluna date em datetime"
   ]
  },
  {
   "cell_type": "code",
   "execution_count": 13,
   "id": "16b28a42",
   "metadata": {},
   "outputs": [],
   "source": [
    "df['date']= pd.to_datetime(df['date'])"
   ]
  },
  {
   "cell_type": "code",
   "execution_count": 14,
   "id": "e96829f1",
   "metadata": {},
   "outputs": [
    {
     "name": "stdout",
     "output_type": "stream",
     "text": [
      "<class 'pandas.core.frame.DataFrame'>\n",
      "Int64Index: 21613 entries, 7129300520 to 1523300157\n",
      "Data columns (total 20 columns):\n",
      " #   Column         Non-Null Count  Dtype         \n",
      "---  ------         --------------  -----         \n",
      " 0   date           21613 non-null  datetime64[ns]\n",
      " 1   price          21613 non-null  float64       \n",
      " 2   bedrooms       21613 non-null  int64         \n",
      " 3   bathrooms      21613 non-null  float64       \n",
      " 4   sqft_living    21613 non-null  int64         \n",
      " 5   sqft_lot       21613 non-null  int64         \n",
      " 6   floors         21613 non-null  float64       \n",
      " 7   waterfront     21613 non-null  int64         \n",
      " 8   view           21613 non-null  int64         \n",
      " 9   condition      21613 non-null  int64         \n",
      " 10  grade          21613 non-null  int64         \n",
      " 11  sqft_above     21613 non-null  int64         \n",
      " 12  sqft_basement  21613 non-null  int64         \n",
      " 13  yr_built       21613 non-null  int64         \n",
      " 14  yr_renovated   21613 non-null  int64         \n",
      " 15  zipcode        21613 non-null  int64         \n",
      " 16  lat            21613 non-null  float64       \n",
      " 17  long           21613 non-null  float64       \n",
      " 18  sqft_living15  21613 non-null  int64         \n",
      " 19  sqft_lot15     21613 non-null  int64         \n",
      "dtypes: datetime64[ns](1), float64(5), int64(14)\n",
      "memory usage: 3.5 MB\n"
     ]
    }
   ],
   "source": [
    "df.info()"
   ]
  },
  {
   "cell_type": "markdown",
   "id": "330c5f2f",
   "metadata": {},
   "source": [
    "Criando as variáveis X e y que serapa em features e a variável que queremos prever(preço)"
   ]
  },
  {
   "cell_type": "code",
   "execution_count": 15,
   "id": "455e63de",
   "metadata": {},
   "outputs": [],
   "source": [
    "X = df.drop(['price','date','zipcode','long','lat'], axis=1, inplace=False)\n",
    "y = df.price"
   ]
  },
  {
   "cell_type": "markdown",
   "id": "10ec4426",
   "metadata": {},
   "source": [
    "Separando os dados em treino e teste"
   ]
  },
  {
   "cell_type": "code",
   "execution_count": 16,
   "id": "e812f624",
   "metadata": {},
   "outputs": [],
   "source": [
    "X_train,X_test,y_train,y_test = train_test_split(X, y, test_size=0.3,random_state=1)"
   ]
  },
  {
   "cell_type": "markdown",
   "id": "f0481f80",
   "metadata": {},
   "source": [
    "Criando o modelo"
   ]
  },
  {
   "cell_type": "code",
   "execution_count": 17,
   "id": "7cca68c5",
   "metadata": {},
   "outputs": [
    {
     "data": {
      "text/plain": [
       "LinearRegression()"
      ]
     },
     "execution_count": 17,
     "metadata": {},
     "output_type": "execute_result"
    }
   ],
   "source": [
    "model = LinearRegression()\n",
    "model.fit(X_train,y_train)"
   ]
  },
  {
   "cell_type": "markdown",
   "id": "8af8f969",
   "metadata": {},
   "source": [
    "Calculando o coeficiente R2"
   ]
  },
  {
   "cell_type": "code",
   "execution_count": 18,
   "id": "9ce9584e",
   "metadata": {},
   "outputs": [
    {
     "data": {
      "text/plain": [
       "0.6541114056823852"
      ]
     },
     "execution_count": 18,
     "metadata": {},
     "output_type": "execute_result"
    }
   ],
   "source": [
    "resultado = model.score(X_test,y_test)\n",
    "resultado"
   ]
  },
  {
   "cell_type": "code",
   "execution_count": 19,
   "id": "4a8d0e0e",
   "metadata": {},
   "outputs": [],
   "source": [
    "y_pred = model.predict(X_test)"
   ]
  },
  {
   "cell_type": "markdown",
   "id": "66550367",
   "metadata": {},
   "source": [
    "### Métricas de erro"
   ]
  },
  {
   "cell_type": "markdown",
   "id": "5ef0268d",
   "metadata": {},
   "source": [
    "Usaremos as métricas MAE, RMAE MSE, como não possuímos a função RMSE na biblioteca SKLEARN, vamos criar essa função abaixo"
   ]
  },
  {
   "cell_type": "code",
   "execution_count": 20,
   "id": "f417424c",
   "metadata": {},
   "outputs": [],
   "source": [
    "def rmse(predictions, targets):\n",
    "    return np.sqrt(((predictions - targets) ** 2).mean())"
   ]
  },
  {
   "cell_type": "code",
   "execution_count": 49,
   "id": "727aedf0",
   "metadata": {},
   "outputs": [
    {
     "name": "stdout",
     "output_type": "stream",
     "text": [
      "MAE Média do Valor Absoluto dos Erros: 140928.46762399332\n",
      "RMAE Raiz da Média do Quadrado dos Erros: 232342.2985936552  \n",
      "MSE Erro quadrático médio: 53982943715.78331\n"
     ]
    }
   ],
   "source": [
    "print(f\"MAE Média do Valor Absoluto dos Erros: {mean_absolute_error(y_test, y_pred)}\\nRMAE Raiz da Média do Quadrado dos Erros: {rmse(y_test, y_pred)}  \\nMSE Erro quadrático médio: {mean_squared_error(y_test, y_pred)}\")"
   ]
  },
  {
   "cell_type": "code",
   "execution_count": null,
   "id": "63622719",
   "metadata": {},
   "outputs": [],
   "source": []
  }
 ],
 "metadata": {
  "kernelspec": {
   "display_name": "Python 3 (ipykernel)",
   "language": "python",
   "name": "python3"
  },
  "language_info": {
   "codemirror_mode": {
    "name": "ipython",
    "version": 3
   },
   "file_extension": ".py",
   "mimetype": "text/x-python",
   "name": "python",
   "nbconvert_exporter": "python",
   "pygments_lexer": "ipython3",
   "version": "3.9.12"
  }
 },
 "nbformat": 4,
 "nbformat_minor": 5
}

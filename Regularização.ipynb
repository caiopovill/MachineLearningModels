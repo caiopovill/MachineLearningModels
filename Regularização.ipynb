{
 "cells": [
  {
   "cell_type": "markdown",
   "id": "b61c2b77",
   "metadata": {},
   "source": [
    "# Regularização"
   ]
  },
  {
   "cell_type": "markdown",
   "id": "b3ca42e7",
   "metadata": {},
   "source": [
    "Viés - diferença entre a predição média do nosso modelo e o valor correto  esperado, um viés alto significa que o modelo aprendeu relações erradas e gerou previsões longe do esperado -  gera UNDERFITTING"
   ]
  },
  {
   "cell_type": "markdown",
   "id": "cd1322d4",
   "metadata": {},
   "source": [
    "Variância - variabilidade do modelo para um determinado dado, capacidade do modelo de se adaptar á base de treino e ao ruído. Modelos com alta variância focam excessivamente se ajustar aos dados e, inclusive, ao ruído - gera OVERFITTING"
   ]
  },
  {
   "cell_type": "markdown",
   "id": "cfa164bc",
   "metadata": {},
   "source": [
    "<img src=\"https://user-images.githubusercontent.com/105823082/184041874-39bc3130-dbc3-4513-9209-393ddc2b73ec.png\" width=\"700\" height=\"700\">"
   ]
  },
  {
   "cell_type": "markdown",
   "id": "f284ba98",
   "metadata": {},
   "source": [
    "Quando fazemos um modelo, pensamos em ter uma boa relação entre viés-variância, mas quanto temos uma pequena quantidade de dados, é provável que teremos um overfitting. Uma das alternativas é a validação cruzada, que analisaremos outro dia, outra forma é com a regularização das variáveis, usando os parametrôs L1 e L2."
   ]
  },
  {
   "cell_type": "markdown",
   "id": "2711eea7",
   "metadata": {},
   "source": [
    "Um dos motivos para termos overfitting em um pequeno conjunto de dados é que dentro da % dos dados que utilizamos para construir os dados de treino, é possível que uma variável tenha tomado um peso maior do que ela deveria, gerando um modelo com alta variância, a ideia é aumentar o viés do modelo para reduzir a variância para reduzir o ajuste excessivo dos dados."
   ]
  },
  {
   "cell_type": "markdown",
   "id": "851e89d5",
   "metadata": {},
   "source": [
    "<img src=\"https://user-images.githubusercontent.com/105823082/184044616-91a7a685-c57f-4630-b18b-45ef7d251abf.png\" width=\"500\" height=\"500\">"
   ]
  },
  {
   "cell_type": "markdown",
   "id": "a8ba3d7d",
   "metadata": {},
   "source": [
    "Usamos a função custo para descobrir os melhores valores possíveis para m e B, que fornece a melhor linha de ajuste para os pontos de dados. Essa soma do módulo de w é um modo de frear as variáveis com peso maior, se pensarmos que a melhor combinação foi w1 = 1 e w2 = 4, quando somamos (1+4) o algoritmo chega em um erro maior, e uma forma de minimizar esse erro é dando outros valores para w, w1 = 1.3 e w2 = 3, dessa forma nós diminuimos o peso da váriavel w2 aumentando o viés e diminuindo a variância"
   ]
  },
  {
   "cell_type": "markdown",
   "id": "261f2be6",
   "metadata": {},
   "source": [
    "<img src=\"https://user-images.githubusercontent.com/105823082/184044654-f4133df2-4fd3-43e4-94a6-1012ec214158.png\" width=\"500\" height=\"500\">"
   ]
  },
  {
   "cell_type": "markdown",
   "id": "854a8c92",
   "metadata": {},
   "source": [
    "De forma similar o parâmetro L2 tem a mesma função que o L1 mas com mais força, por ele elevar o w ao quadrado ao inves de simplesmente somar, o algoritmo acaba reduzindo mais ainda as variáveis com maior peso, vamos usar o mesmo exemplo, se tivéssemos w1 = 1 e w2 = 4, ao somar (1 ** 2 + 4 ** 2), o resultado seria somado 17 ao erro médio, e novamente o algoritmo ia alterar as variáveis para chegar em um erro menor, w1 = 2 e w2 = 3, que ao elevar ao quadrado (2 ** 2 + 3 ** 2) resultaria em um valor menor 13."
   ]
  },
  {
   "cell_type": "markdown",
   "id": "f4a94f70",
   "metadata": {},
   "source": [
    "# Aplicando os conceitos"
   ]
  },
  {
   "cell_type": "code",
   "execution_count": 1,
   "id": "263c3e86",
   "metadata": {},
   "outputs": [],
   "source": [
    "import pandas as pd\n",
    "from sklearn.linear_model import LinearRegression\n",
    "from sklearn.model_selection import train_test_split\n",
    "from sklearn.metrics import mean_absolute_error,mean_squared_error"
   ]
  },
  {
   "cell_type": "markdown",
   "id": "24ffd25a",
   "metadata": {},
   "source": [
    "Vamos utilizar o mesmo dataset usado na regressão linear"
   ]
  },
  {
   "cell_type": "code",
   "execution_count": 2,
   "id": "e04403db",
   "metadata": {
    "scrolled": false
   },
   "outputs": [
    {
     "data": {
      "text/html": [
       "<div>\n",
       "<style scoped>\n",
       "    .dataframe tbody tr th:only-of-type {\n",
       "        vertical-align: middle;\n",
       "    }\n",
       "\n",
       "    .dataframe tbody tr th {\n",
       "        vertical-align: top;\n",
       "    }\n",
       "\n",
       "    .dataframe thead th {\n",
       "        text-align: right;\n",
       "    }\n",
       "</style>\n",
       "<table border=\"1\" class=\"dataframe\">\n",
       "  <thead>\n",
       "    <tr style=\"text-align: right;\">\n",
       "      <th></th>\n",
       "      <th>id</th>\n",
       "      <th>date</th>\n",
       "      <th>price</th>\n",
       "      <th>bedrooms</th>\n",
       "      <th>bathrooms</th>\n",
       "      <th>sqft_living</th>\n",
       "      <th>sqft_lot</th>\n",
       "      <th>floors</th>\n",
       "      <th>waterfront</th>\n",
       "      <th>view</th>\n",
       "      <th>...</th>\n",
       "      <th>grade</th>\n",
       "      <th>sqft_above</th>\n",
       "      <th>sqft_basement</th>\n",
       "      <th>yr_built</th>\n",
       "      <th>yr_renovated</th>\n",
       "      <th>zipcode</th>\n",
       "      <th>lat</th>\n",
       "      <th>long</th>\n",
       "      <th>sqft_living15</th>\n",
       "      <th>sqft_lot15</th>\n",
       "    </tr>\n",
       "  </thead>\n",
       "  <tbody>\n",
       "    <tr>\n",
       "      <th>0</th>\n",
       "      <td>7129300520</td>\n",
       "      <td>20141013T000000</td>\n",
       "      <td>221900.0</td>\n",
       "      <td>3</td>\n",
       "      <td>1.00</td>\n",
       "      <td>1180</td>\n",
       "      <td>5650</td>\n",
       "      <td>1.0</td>\n",
       "      <td>0</td>\n",
       "      <td>0</td>\n",
       "      <td>...</td>\n",
       "      <td>7</td>\n",
       "      <td>1180</td>\n",
       "      <td>0</td>\n",
       "      <td>1955</td>\n",
       "      <td>0</td>\n",
       "      <td>98178</td>\n",
       "      <td>47.5112</td>\n",
       "      <td>-122.257</td>\n",
       "      <td>1340</td>\n",
       "      <td>5650</td>\n",
       "    </tr>\n",
       "    <tr>\n",
       "      <th>1</th>\n",
       "      <td>6414100192</td>\n",
       "      <td>20141209T000000</td>\n",
       "      <td>538000.0</td>\n",
       "      <td>3</td>\n",
       "      <td>2.25</td>\n",
       "      <td>2570</td>\n",
       "      <td>7242</td>\n",
       "      <td>2.0</td>\n",
       "      <td>0</td>\n",
       "      <td>0</td>\n",
       "      <td>...</td>\n",
       "      <td>7</td>\n",
       "      <td>2170</td>\n",
       "      <td>400</td>\n",
       "      <td>1951</td>\n",
       "      <td>1991</td>\n",
       "      <td>98125</td>\n",
       "      <td>47.7210</td>\n",
       "      <td>-122.319</td>\n",
       "      <td>1690</td>\n",
       "      <td>7639</td>\n",
       "    </tr>\n",
       "    <tr>\n",
       "      <th>2</th>\n",
       "      <td>5631500400</td>\n",
       "      <td>20150225T000000</td>\n",
       "      <td>180000.0</td>\n",
       "      <td>2</td>\n",
       "      <td>1.00</td>\n",
       "      <td>770</td>\n",
       "      <td>10000</td>\n",
       "      <td>1.0</td>\n",
       "      <td>0</td>\n",
       "      <td>0</td>\n",
       "      <td>...</td>\n",
       "      <td>6</td>\n",
       "      <td>770</td>\n",
       "      <td>0</td>\n",
       "      <td>1933</td>\n",
       "      <td>0</td>\n",
       "      <td>98028</td>\n",
       "      <td>47.7379</td>\n",
       "      <td>-122.233</td>\n",
       "      <td>2720</td>\n",
       "      <td>8062</td>\n",
       "    </tr>\n",
       "    <tr>\n",
       "      <th>3</th>\n",
       "      <td>2487200875</td>\n",
       "      <td>20141209T000000</td>\n",
       "      <td>604000.0</td>\n",
       "      <td>4</td>\n",
       "      <td>3.00</td>\n",
       "      <td>1960</td>\n",
       "      <td>5000</td>\n",
       "      <td>1.0</td>\n",
       "      <td>0</td>\n",
       "      <td>0</td>\n",
       "      <td>...</td>\n",
       "      <td>7</td>\n",
       "      <td>1050</td>\n",
       "      <td>910</td>\n",
       "      <td>1965</td>\n",
       "      <td>0</td>\n",
       "      <td>98136</td>\n",
       "      <td>47.5208</td>\n",
       "      <td>-122.393</td>\n",
       "      <td>1360</td>\n",
       "      <td>5000</td>\n",
       "    </tr>\n",
       "    <tr>\n",
       "      <th>4</th>\n",
       "      <td>1954400510</td>\n",
       "      <td>20150218T000000</td>\n",
       "      <td>510000.0</td>\n",
       "      <td>3</td>\n",
       "      <td>2.00</td>\n",
       "      <td>1680</td>\n",
       "      <td>8080</td>\n",
       "      <td>1.0</td>\n",
       "      <td>0</td>\n",
       "      <td>0</td>\n",
       "      <td>...</td>\n",
       "      <td>8</td>\n",
       "      <td>1680</td>\n",
       "      <td>0</td>\n",
       "      <td>1987</td>\n",
       "      <td>0</td>\n",
       "      <td>98074</td>\n",
       "      <td>47.6168</td>\n",
       "      <td>-122.045</td>\n",
       "      <td>1800</td>\n",
       "      <td>7503</td>\n",
       "    </tr>\n",
       "  </tbody>\n",
       "</table>\n",
       "<p>5 rows × 21 columns</p>\n",
       "</div>"
      ],
      "text/plain": [
       "           id             date     price  bedrooms  bathrooms  sqft_living  \\\n",
       "0  7129300520  20141013T000000  221900.0         3       1.00         1180   \n",
       "1  6414100192  20141209T000000  538000.0         3       2.25         2570   \n",
       "2  5631500400  20150225T000000  180000.0         2       1.00          770   \n",
       "3  2487200875  20141209T000000  604000.0         4       3.00         1960   \n",
       "4  1954400510  20150218T000000  510000.0         3       2.00         1680   \n",
       "\n",
       "   sqft_lot  floors  waterfront  view  ...  grade  sqft_above  sqft_basement  \\\n",
       "0      5650     1.0           0     0  ...      7        1180              0   \n",
       "1      7242     2.0           0     0  ...      7        2170            400   \n",
       "2     10000     1.0           0     0  ...      6         770              0   \n",
       "3      5000     1.0           0     0  ...      7        1050            910   \n",
       "4      8080     1.0           0     0  ...      8        1680              0   \n",
       "\n",
       "   yr_built  yr_renovated  zipcode      lat     long  sqft_living15  \\\n",
       "0      1955             0    98178  47.5112 -122.257           1340   \n",
       "1      1951          1991    98125  47.7210 -122.319           1690   \n",
       "2      1933             0    98028  47.7379 -122.233           2720   \n",
       "3      1965             0    98136  47.5208 -122.393           1360   \n",
       "4      1987             0    98074  47.6168 -122.045           1800   \n",
       "\n",
       "   sqft_lot15  \n",
       "0        5650  \n",
       "1        7639  \n",
       "2        8062  \n",
       "3        5000  \n",
       "4        7503  \n",
       "\n",
       "[5 rows x 21 columns]"
      ]
     },
     "execution_count": 2,
     "metadata": {},
     "output_type": "execute_result"
    }
   ],
   "source": [
    "df = pd.read_csv(r'C:\\Users\\Usuario\\Desktop\\data\\houses\\house.csv')\n",
    "df.head()"
   ]
  },
  {
   "cell_type": "markdown",
   "id": "45ba30ee",
   "metadata": {},
   "source": [
    "Separando as features e a variavel alvo"
   ]
  },
  {
   "cell_type": "code",
   "execution_count": 3,
   "id": "f70495a1",
   "metadata": {},
   "outputs": [],
   "source": [
    "X = df.drop(['price','date','zipcode','long','lat','id'], axis=1, inplace=False)\n",
    "y = df.price"
   ]
  },
  {
   "cell_type": "markdown",
   "id": "53491164",
   "metadata": {},
   "source": [
    "Separando os dados de treino e teste"
   ]
  },
  {
   "cell_type": "code",
   "execution_count": 4,
   "id": "aa2857aa",
   "metadata": {},
   "outputs": [],
   "source": [
    "X_train, X_test, y_train, y_test = train_test_split(X, y, test_size=0.3, random_state=14)"
   ]
  },
  {
   "cell_type": "markdown",
   "id": "a105b78c",
   "metadata": {},
   "source": [
    "Primeiro vamos criar uma regressão linear"
   ]
  },
  {
   "cell_type": "code",
   "execution_count": 5,
   "id": "d68152ba",
   "metadata": {
    "scrolled": true
   },
   "outputs": [
    {
     "data": {
      "text/plain": [
       "LinearRegression()"
      ]
     },
     "execution_count": 5,
     "metadata": {},
     "output_type": "execute_result"
    }
   ],
   "source": [
    "modelo = LinearRegression()\n",
    "modelo.fit(X_train,y_train)"
   ]
  },
  {
   "cell_type": "code",
   "execution_count": 6,
   "id": "f27c94da",
   "metadata": {
    "scrolled": true
   },
   "outputs": [
    {
     "data": {
      "text/plain": [
       "0.6538094196281063"
      ]
     },
     "execution_count": 6,
     "metadata": {},
     "output_type": "execute_result"
    }
   ],
   "source": [
    "resultado = modelo.score(X_test, y_test)\n",
    "resultado"
   ]
  },
  {
   "cell_type": "markdown",
   "id": "80b59cb2",
   "metadata": {},
   "source": [
    "##### Agora vamos aplicar os conceitos apresentados"
   ]
  },
  {
   "cell_type": "code",
   "execution_count": 7,
   "id": "44557386",
   "metadata": {
    "scrolled": true
   },
   "outputs": [
    {
     "data": {
      "text/plain": [
       "Ridge()"
      ]
     },
     "execution_count": 7,
     "metadata": {},
     "output_type": "execute_result"
    }
   ],
   "source": [
    "from sklearn.linear_model import Ridge\n",
    "modeloRidge = Ridge()\n",
    "modeloRidge.fit(X_train, y_train)"
   ]
  },
  {
   "cell_type": "code",
   "execution_count": 8,
   "id": "a5de08d4",
   "metadata": {
    "scrolled": false
   },
   "outputs": [
    {
     "data": {
      "text/plain": [
       "0.6539029726255621"
      ]
     },
     "execution_count": 8,
     "metadata": {},
     "output_type": "execute_result"
    }
   ],
   "source": [
    "resultadoRidge = modeloRidge.score(X_test, y_test)\n",
    "resultadoRidge"
   ]
  },
  {
   "cell_type": "code",
   "execution_count": 9,
   "id": "81e7cc90",
   "metadata": {
    "scrolled": false
   },
   "outputs": [
    {
     "data": {
      "text/plain": [
       "Lasso(tol=0.1)"
      ]
     },
     "execution_count": 9,
     "metadata": {},
     "output_type": "execute_result"
    }
   ],
   "source": [
    "from sklearn.linear_model import Lasso\n",
    "modeloLasso = Lasso(tol=0.1)\n",
    "modeloLasso.fit(X_train, y_train)"
   ]
  },
  {
   "cell_type": "code",
   "execution_count": 10,
   "id": "12bc74de",
   "metadata": {
    "scrolled": true
   },
   "outputs": [
    {
     "data": {
      "text/plain": [
       "0.6538117156757711"
      ]
     },
     "execution_count": 10,
     "metadata": {},
     "output_type": "execute_result"
    }
   ],
   "source": [
    "modeloLasso = modeloLasso.score(X_test, y_test)\n",
    "modeloLasso"
   ]
  },
  {
   "cell_type": "code",
   "execution_count": 11,
   "id": "a16721f1",
   "metadata": {},
   "outputs": [
    {
     "name": "stdout",
     "output_type": "stream",
     "text": [
      "Regressão linear: 0.6538094196281063\n",
      "Ridge: 0.6539029726255621\n",
      "Lasso: 0.6538117156757711\n"
     ]
    }
   ],
   "source": [
    "print(f'Regressão linear: {resultado}\\nRidge: {resultadoRidge}\\nLasso: {modeloLasso}')"
   ]
  },
  {
   "cell_type": "markdown",
   "id": "3d0abc70",
   "metadata": {},
   "source": [
    "Podemos notar uma pequena diferença entre os scores"
   ]
  },
  {
   "cell_type": "markdown",
   "id": "d08cb429",
   "metadata": {},
   "source": [
    "# Elastic Net"
   ]
  },
  {
   "cell_type": "markdown",
   "id": "523d4e76",
   "metadata": {},
   "source": [
    "Outra tipo de regularização é a elastic net. Ela é a combinação do LASSO com a RIDGE, ao invés de somarmos apenas um deles na função de custo, vamos somar os 2 parâmetros. Podemos escolher o peso de cada uma delas, multiplicando a função LASSO por c e a função RIDGE por (1-c). C variando de 0 a 1"
   ]
  },
  {
   "cell_type": "markdown",
   "id": "0bcf009f",
   "metadata": {},
   "source": [
    "<img src=\"https://user-images.githubusercontent.com/105823082/184127319-fee4366f-11fa-4da0-9bd0-25b5bff3eb43.png\" width=\"450\" height=\"450\">"
   ]
  },
  {
   "cell_type": "code",
   "execution_count": 27,
   "id": "d337bb4e",
   "metadata": {},
   "outputs": [
    {
     "data": {
      "text/plain": [
       "ElasticNet(max_iter=5000, tol=0.25)"
      ]
     },
     "execution_count": 27,
     "metadata": {},
     "output_type": "execute_result"
    }
   ],
   "source": [
    "from sklearn.linear_model import ElasticNet\n",
    "modeloElasticNet = ElasticNet(l1_ratio = 0.5,tol=0.25, max_iter= 5000)\n",
    "modeloElasticNet.fit(X_train, y_train)"
   ]
  },
  {
   "cell_type": "code",
   "execution_count": 28,
   "id": "5043f041",
   "metadata": {},
   "outputs": [
    {
     "data": {
      "text/plain": [
       "0.6233739640209431"
      ]
     },
     "execution_count": 28,
     "metadata": {},
     "output_type": "execute_result"
    }
   ],
   "source": [
    "resultadoEN = modeloElasticNet.score(X_test, y_test)\n",
    "resultadoEN"
   ]
  },
  {
   "cell_type": "markdown",
   "id": "c68c93b7",
   "metadata": {},
   "source": [
    "### Aplicando todos de uma vez"
   ]
  },
  {
   "cell_type": "code",
   "execution_count": 32,
   "id": "8567dc39",
   "metadata": {},
   "outputs": [],
   "source": [
    "models = [('LinearRegression',LinearRegression()),('Ridge',Ridge()),('Lasso',Lasso(tol=0.1)),('ElasticNet',ElasticNet(l1_ratio = 0.5,tol=0.25, max_iter= 5000))]"
   ]
  },
  {
   "cell_type": "code",
   "execution_count": 33,
   "id": "219a24b1",
   "metadata": {},
   "outputs": [
    {
     "name": "stdout",
     "output_type": "stream",
     "text": [
      "LinearRegression: 0.6538094196281063\n",
      "Ridge: 0.6539029726255621\n",
      "Lasso: 0.6538117156757711\n",
      "ElasticNet: 0.6233739640209431\n"
     ]
    }
   ],
   "source": [
    "for name, model in models:\n",
    "    modelo = model\n",
    "    modelo.fit(X_train, y_train)\n",
    "    resultado = modelo.score(X_test, y_test)\n",
    "    print(f'{name}: {resultado}')"
   ]
  }
 ],
 "metadata": {
  "kernelspec": {
   "display_name": "Python 3 (ipykernel)",
   "language": "python",
   "name": "python3"
  },
  "language_info": {
   "codemirror_mode": {
    "name": "ipython",
    "version": 3
   },
   "file_extension": ".py",
   "mimetype": "text/x-python",
   "name": "python",
   "nbconvert_exporter": "python",
   "pygments_lexer": "ipython3",
   "version": "3.9.12"
  }
 },
 "nbformat": 4,
 "nbformat_minor": 5
}
